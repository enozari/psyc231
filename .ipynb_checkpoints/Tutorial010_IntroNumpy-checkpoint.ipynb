{
 "cells": [
  {
   "cell_type": "markdown",
   "metadata": {},
   "source": [
    "# Intro to NumPy\n",
    "\n",
    "-  [based on this numpy quickstart guide](https://docs.scipy.org/doc/numpy/user/quickstart.html)\n",
    "\n",
    "-  [full list of routines](https://docs.scipy.org/doc/numpy-dev/reference/routines.html#routines)"
   ]
  },
  {
   "cell_type": "code",
   "execution_count": 1,
   "metadata": {
    "collapsed": true
   },
   "outputs": [],
   "source": [
    "# import numpy and other stuff for this tutorial\n",
    "import numpy as np\n",
    "from numpy import pi\n",
    "import matplotlib.pyplot as plt\n",
    "from scipy.stats import norm"
   ]
  },
  {
   "cell_type": "markdown",
   "metadata": {},
   "source": [
    "## initialize array and a few basic operations"
   ]
  },
  {
   "cell_type": "code",
   "execution_count": 4,
   "metadata": {},
   "outputs": [
    {
     "name": "stdout",
     "output_type": "stream",
     "text": [
      "[0 1 2 3 4 5 6 7 8 9]\n"
     ]
    },
    {
     "data": {
      "text/plain": [
       "(10,)"
      ]
     },
     "execution_count": 4,
     "metadata": {},
     "output_type": "execute_result"
    }
   ],
   "source": [
    "# set up an array and figure out shape...\n",
    "my_array = np.arange(10)    # the interval includes `start` but excludes `stop`, overal interval [start...stop-1]\n",
    "print(my_array)\n",
    "my_array.shape     "
   ]
  },
  {
   "cell_type": "code",
   "execution_count": null,
   "metadata": {
    "collapsed": true
   },
   "outputs": [],
   "source": []
  },
  {
   "cell_type": "code",
   "execution_count": 8,
   "metadata": {
    "scrolled": true
   },
   "outputs": [
    {
     "name": "stdout",
     "output_type": "stream",
     "text": [
      "[[0 1 2 3 4]\n",
      " [5 6 7 8 9]]\n",
      "[[0 1 2 3 4 5 6 7 8 9]]\n"
     ]
    }
   ],
   "source": [
    "# reshape array\n",
    "my_array = np.arange(10)\n",
    "my_array = my_array.reshape(2,5)   # why is (2,5) and (5,2) ok but (2,6) not ok? \n",
    "print(my_array)\n",
    "my_array.shape   \n",
    "my_array = my_array.reshape(1, 10)\n",
    "print(my_array)"
   ]
  },
  {
   "cell_type": "code",
   "execution_count": 16,
   "metadata": {},
   "outputs": [
    {
     "name": "stdout",
     "output_type": "stream",
     "text": [
      "[ 0  1  2  3  4  5  6  7  8  9 10 11 12 13 14 15 16 17 18 19 20 21 22 23 24\n",
      " 25 26 27 28 29 30 31 32 33 34 35 36 37 38 39 40 41]\n",
      "[[[ 0  1  2  3  4  5  6]\n",
      "  [ 7  8  9 10 11 12 13]\n",
      "  [14 15 16 17 18 19 20]]\n",
      "\n",
      " [[21 22 23 24 25 26 27]\n",
      "  [28 29 30 31 32 33 34]\n",
      "  [35 36 37 38 39 40 41]]]\n",
      "38\n"
     ]
    }
   ],
   "source": [
    "# neat trick...can also reshape with 'shape' and use a -1 which means 'whatever works' \n",
    "my_array = np.arange(42)\n",
    "print(my_array)\n",
    "my_array.shape = 2,3,-1  \n",
    "my_array.shape\n",
    "print(my_array)\n",
    "print(my_array[1, 2, 3])"
   ]
  },
  {
   "cell_type": "markdown",
   "metadata": {},
   "source": [
    "## data types (and remember - strong typed language)"
   ]
  },
  {
   "cell_type": "code",
   "execution_count": 11,
   "metadata": {},
   "outputs": [
    {
     "name": "stdout",
     "output_type": "stream",
     "text": [
      "Dims of data:  3\n",
      "Size of each element (bytes):  8\n",
      "Total number of elements in array:  42\n",
      "Name of data type:  int64\n"
     ]
    }
   ],
   "source": [
    "print('Dims of data: ', my_array.ndim)              # number of dims\n",
    "print('Size of each element (bytes): ', my_array.itemsize)          # size of each element in bytes\n",
    "print('Total number of elements in array: ', my_array.size)         # total number of elements in array\n",
    "print('Name of data type: ', my_array.dtype.name)   # name of data type (float, int32, int64 etc)"
   ]
  },
  {
   "cell_type": "code",
   "execution_count": 19,
   "metadata": {},
   "outputs": [
    {
     "data": {
      "text/plain": [
       "'float64'"
      ]
     },
     "execution_count": 19,
     "metadata": {},
     "output_type": "execute_result"
    }
   ],
   "source": [
    "# will infer data type based on input values...here we have 1 float so the whole thing is float\n",
    "float_array = np.array([1.1,2,3])  \n",
    "float_array.dtype.name             # or np.dtype"
   ]
  },
  {
   "cell_type": "code",
   "execution_count": 20,
   "metadata": {},
   "outputs": [
    {
     "name": "stdout",
     "output_type": "stream",
     "text": [
      "(2, 3)\n"
     ]
    },
    {
     "data": {
      "text/plain": [
       "array([[1, 2, 3],\n",
       "       [6, 7, 8]])"
      ]
     },
     "execution_count": 20,
     "metadata": {},
     "output_type": "execute_result"
    }
   ],
   "source": [
    "int_array = np.array([[1,2,3], [6,7,8]], dtype = 'int64')   # complex, float32, float64, int32, uint32 (unsigned int32), etc\n",
    "int_array.dtype\n",
    "print(int_array.shape)\n",
    "int_array"
   ]
  },
  {
   "cell_type": "markdown",
   "metadata": {},
   "source": [
    "<div class=\"alert alert-success\">\n",
    "what happens if you initialize with floating point numbers but you declare an int data type?\n",
    "</div>"
   ]
  },
  {
   "cell_type": "code",
   "execution_count": 21,
   "metadata": {},
   "outputs": [
    {
     "data": {
      "text/plain": [
       "array([[1, 2, 3],\n",
       "       [6, 7, 8]])"
      ]
     },
     "execution_count": 21,
     "metadata": {},
     "output_type": "execute_result"
    }
   ],
   "source": [
    "int_array = np.array([[1.1,2.7,3.4], [6.9,7.5,8.2]], dtype = 'int64')   # complex, float32, float64, int32, uint32 (unsigned int32), etc\n",
    "int_array"
   ]
  },
  {
   "cell_type": "markdown",
   "metadata": {},
   "source": [
    "## Allocate arrays of zeros, ones or rand to reserve the memory before filling up later "
   ]
  },
  {
   "cell_type": "markdown",
   "metadata": {},
   "source": [
    "<div class=\"alert alert-info\">\n",
    "handy when you know what size you need, but you're not ready to fill it up yet...saves you from dynamically resizing the matrix during analysis, which is very slow\n",
    "</div>"
   ]
  },
  {
   "cell_type": "code",
   "execution_count": 23,
   "metadata": {},
   "outputs": [
    {
     "name": "stdout",
     "output_type": "stream",
     "text": [
      "Data type: float64\n",
      "Data type: int32\n",
      "[[0 0 0 0]\n",
      " [0 0 0 0]\n",
      " [0 0 0 0]]\n"
     ]
    }
   ],
   "source": [
    "# note the () around the dims because you specify as a tuple...default type is float64\n",
    "zero_array = np.zeros( (3,4) )   # works just fine with [3, 4] instead of (3, 4)\n",
    "print('Data type:', zero_array.dtype)\n",
    "\n",
    "# explicilty declare data type\n",
    "zero_array = np.zeros( (3,4), dtype=np.int32)   # \n",
    "print('Data type:', zero_array.dtype)\n",
    "print(zero_array)"
   ]
  },
  {
   "cell_type": "code",
   "execution_count": 25,
   "metadata": {},
   "outputs": [
    {
     "data": {
      "text/plain": [
       "array([[[ 1.,  1.,  1.,  1.],\n",
       "        [ 1.,  1.,  1.,  1.],\n",
       "        [ 1.,  1.,  1.,  1.],\n",
       "        [ 1.,  1.,  1.,  1.]],\n",
       "\n",
       "       [[ 1.,  1.,  1.,  1.],\n",
       "        [ 1.,  1.,  1.,  1.],\n",
       "        [ 1.,  1.,  1.,  1.],\n",
       "        [ 1.,  1.,  1.,  1.]],\n",
       "\n",
       "       [[ 1.,  1.,  1.,  1.],\n",
       "        [ 1.,  1.,  1.,  1.],\n",
       "        [ 1.,  1.,  1.,  1.],\n",
       "        [ 1.,  1.,  1.,  1.]],\n",
       "\n",
       "       [[ 1.,  1.,  1.,  1.],\n",
       "        [ 1.,  1.,  1.,  1.],\n",
       "        [ 1.,  1.,  1.,  1.],\n",
       "        [ 1.,  1.,  1.,  1.]]])"
      ]
     },
     "execution_count": 25,
     "metadata": {},
     "output_type": "execute_result"
    }
   ],
   "source": [
    "# ones\n",
    "# note the 3D output below...4, 4x4 squares of floating point 1s...\n",
    "np.ones( (4,4,4), dtype=np.float64 )           "
   ]
  },
  {
   "cell_type": "code",
   "execution_count": 26,
   "metadata": {},
   "outputs": [
    {
     "data": {
      "text/plain": [
       "array([[[  1.40129846e-45,   0.00000000e+00],\n",
       "        [  1.40129846e-45,   0.00000000e+00]],\n",
       "\n",
       "       [[  1.40129846e-45,   0.00000000e+00],\n",
       "        [  0.00000000e+00,   0.00000000e+00]]], dtype=float32)"
      ]
     },
     "execution_count": 26,
     "metadata": {},
     "output_type": "execute_result"
    }
   ],
   "source": [
    "# and empty...not really 'empty' but initialized with varible output determined by current state of memory\n",
    "np.empty( (2,2,2), dtype = np.float32)"
   ]
  },
  {
   "cell_type": "markdown",
   "metadata": {},
   "source": [
    "## Can also create sequences of numbers using arange..."
   ]
  },
  {
   "cell_type": "code",
   "execution_count": 30,
   "metadata": {},
   "outputs": [
    {
     "name": "stdout",
     "output_type": "stream",
     "text": [
      "[0 1 2 3 4 5 6 7 8 9]\n"
     ]
    }
   ],
   "source": [
    "seq_array = np.arange(10)    # 0-9...remember - counting starts at 0! \n",
    "print(seq_array)"
   ]
  },
  {
   "cell_type": "code",
   "execution_count": 37,
   "metadata": {},
   "outputs": [
    {
     "name": "stdout",
     "output_type": "stream",
     "text": [
      "[  0.    0.5   1.    1.5   2.    2.5   3.    3.5   4.    4.5   5.    5.5\n",
      "   6.    6.5   7.    7.5   8.    8.5   9.    9.5  10.   10.5  11.   11.5\n",
      "  12.   12.5  13.   13.5  14.   14.5  15.   15.5  16.   16.5  17.   17.5\n",
      "  18.   18.5  19.   19.5  20.   20.5  21.   21.5  22.   22.5  23.   23.5\n",
      "  24.   24.5  25.   25.5  26.   26.5  27.   27.5  28.   28.5  29.   29.5\n",
      "  30. ]\n"
     ]
    }
   ],
   "source": [
    "# can specify start, stop and step\n",
    "seq_array = np.arange(0,30.1,.5)     # start, stop (stop at < X), step size\n",
    "print(seq_array)\n",
    "# note that 30 is not in there..."
   ]
  },
  {
   "cell_type": "code",
   "execution_count": null,
   "metadata": {
    "collapsed": true
   },
   "outputs": [],
   "source": [
    "seq_array = np.arange(0,10,.5)    # decimal input is ok too (and again - stop is NOT included)\n",
    "print(seq_array)"
   ]
  },
  {
   "cell_type": "markdown",
   "metadata": {},
   "source": [
    "<div class=\"alert alert-info\">\n",
    "Because of machine precision issues, sometimes hard to predict how many elements will end up in an array when initialized using arange...so often better to specify a sequence based on start point, stop point, and the exact number of elements that you want (or the number of steps between start and stop). linspace (linear spacing) is the function to do this, and note that unlike arange that ends < stop point, linspace will always end exactly at the specified stop point. \n",
    "</div>"
   ]
  },
  {
   "cell_type": "code",
   "execution_count": 38,
   "metadata": {},
   "outputs": [
    {
     "name": "stdout",
     "output_type": "stream",
     "text": [
      "[  0.    2.5   5.    7.5  10.   12.5  15.   17.5  20. ]\n"
     ]
    }
   ],
   "source": [
    "# start, stop, number of linearly spaced steps between start and stop...note that start AND stop included!\n",
    "lin_array = np.linspace(0,20,9) \n",
    "print(lin_array)"
   ]
  },
  {
   "cell_type": "markdown",
   "metadata": {},
   "source": [
    "## Common use of linspace in this class...eval a function over an interval. quick intro to basic plotting here too..."
   ]
  },
  {
   "cell_type": "code",
   "execution_count": 47,
   "metadata": {},
   "outputs": [
    {
     "data": {
      "image/png": "[encoded data removed]",
      "text/plain": [
       "<matplotlib.figure.Figure at 0x10f692be0>"
      ]
     },
     "metadata": {},
     "output_type": "display_data"
    },
    {
     "name": "stdout",
     "output_type": "stream",
     "text": [
      "  agg_filter: unknown\n",
      "  alpha: float (0.0 transparent through 1.0 opaque) \n",
      "  animated: [True | False] \n",
      "  antialiased or aa: [True | False] \n",
      "  axes: an :class:`~matplotlib.axes.Axes` instance \n",
      "  clip_box: a :class:`matplotlib.transforms.Bbox` instance \n",
      "  clip_on: [True | False] \n",
      "  clip_path: [ (:class:`~matplotlib.path.Path`, :class:`~matplotlib.transforms.Transform`) | :class:`~matplotlib.patches.Patch` | None ] \n",
      "  color or c: any matplotlib color \n",
      "  contains: a callable function \n",
      "  dash_capstyle: ['butt' | 'round' | 'projecting'] \n",
      "  dash_joinstyle: ['miter' | 'round' | 'bevel'] \n",
      "  dashes: sequence of on/off ink in points \n",
      "  drawstyle: ['default' | 'steps' | 'steps-pre' | 'steps-mid' | 'steps-post'] \n",
      "  figure: a :class:`matplotlib.figure.Figure` instance \n",
      "  fillstyle: ['full' | 'left' | 'right' | 'bottom' | 'top' | 'none'] \n",
      "  gid: an id string \n",
      "  label: string or anything printable with '%s' conversion. \n",
      "  linestyle or ls: ['solid' | 'dashed', 'dashdot', 'dotted' | (offset, on-off-dash-seq) | ``'-'`` | ``'--'`` | ``'-.'`` | ``':'`` | ``'None'`` | ``' '`` | ``''``]\n",
      "  linewidth or lw: float value in points \n",
      "  marker: :mod:`A valid marker style <matplotlib.markers>`\n",
      "  markeredgecolor or mec: any matplotlib color \n",
      "  markeredgewidth or mew: float value in points \n",
      "  markerfacecolor or mfc: any matplotlib color \n",
      "  markerfacecoloralt or mfcalt: any matplotlib color \n",
      "  markersize or ms: float \n",
      "  markevery: [None | int | length-2 tuple of int | slice | list/array of int | float | length-2 tuple of float]\n",
      "  path_effects: unknown\n",
      "  picker: float distance in points or callable pick function ``fn(artist, event)`` \n",
      "  pickradius: float distance in points \n",
      "  rasterized: [True | False | None] \n",
      "  sketch_params: unknown\n",
      "  snap: unknown\n",
      "  solid_capstyle: ['butt' | 'round' |  'projecting'] \n",
      "  solid_joinstyle: ['miter' | 'round' | 'bevel'] \n",
      "  transform: a :class:`matplotlib.transforms.Transform` instance \n",
      "  url: a url string \n",
      "  visible: [True | False] \n",
      "  xdata: 1D array \n",
      "  ydata: 1D array \n",
      "  zorder: any number \n"
     ]
    }
   ],
   "source": [
    "lin_array = np.linspace(0, 2*pi, 360)\n",
    "sin_wave = np.sin(lin_array)\n",
    "\n",
    "# plotting\n",
    "\n",
    "h = plt.plot(lin_array*180/pi, sin_wave, 'r-', linewidth = 4)    # specify x,y data...convert rad to deg for x-axis\n",
    "\n",
    "# label each axis and give it a title\n",
    "plt.xlabel('angle (deg)')\n",
    "plt.ylabel('Amplitude')\n",
    "plt.title('Sin Wave')\n",
    "plt.grid(1) # removing 1 also works fine\n",
    "plt.show() # works kind of like draw now in matlab, but is needed to plot at all\n",
    "\n",
    "# figure out all settings to tweak...\n",
    "plt.setp(h)"
   ]
  },
  {
   "cell_type": "markdown",
   "metadata": {},
   "source": [
    "## initializing arrays with random numbers...use np.random.rand and np.random.randn"
   ]
  },
  {
   "cell_type": "code",
   "execution_count": 52,
   "metadata": {},
   "outputs": [
    {
     "name": "stdout",
     "output_type": "stream",
     "text": [
      "[[ 0.60282761  0.05447198  0.2940533   0.91304811  0.53256001  0.42898203\n",
      "   0.11514703  0.84043387  0.27408703  0.42413841  0.00435159  0.28212816\n",
      "   0.67670374  0.53308137  0.7758757   0.83892291]]\n",
      "[[ True False False  True  True False False  True False False False False\n",
      "   True  True  True  True]]\n"
     ]
    }
   ],
   "source": [
    "rand_array = np.random.rand(1,16)   # drawn from uniform over [0,1]\n",
    "print(rand_array)\n",
    "print(rand_array > 0.5)"
   ]
  },
  {
   "cell_type": "code",
   "execution_count": 53,
   "metadata": {},
   "outputs": [
    {
     "name": "stdout",
     "output_type": "stream",
     "text": [
      "[[ 0.50916681  0.6351749  -1.35840968  0.75771886  1.56554927  0.70586414]\n",
      " [-0.10273785 -2.01218542  2.50082255 -1.98433464  1.16669516 -0.21266539]]\n"
     ]
    }
   ],
   "source": [
    "rand_array = np.random.randn(2,6)   # drawn from normal with mean 0 and variance 1\n",
    "print(rand_array)"
   ]
  },
  {
   "cell_type": "markdown",
   "metadata": {},
   "source": [
    "## use randn to generate draws from a normal distribtion with mean = mu and variance = sig and then plot..."
   ]
  },
  {
   "cell_type": "code",
   "execution_count": 105,
   "metadata": {},
   "outputs": [
    {
     "data": {
      "image/png": "[encoded data removed]",
      "text/plain": [
       "<matplotlib.figure.Figure at 0x1a109f0e10>"
      ]
     },
     "metadata": {},
     "output_type": "display_data"
    }
   ],
   "source": [
    "# shift the mean and scale the variance for a N(mu,var)\n",
    "samples = 1000\n",
    "mu = 4\n",
    "sig = 2\n",
    "\n",
    "# generate the array of rand numbers \n",
    "rand_array = (sig * np.random.randn(samples,1)) + mu   # drawn from normal with mean mu and variance sig\n",
    "rand_array\n",
    "\n",
    "# plot\n",
    "num_bins = 30\n",
    "\n",
    "fig, ax = plt.subplots()\n",
    "\n",
    "# generate the histogram\n",
    "n, bins, patches = ax.hist(rand_array, num_bins,normed=1)\n",
    "\n",
    "# generate a pdf evaled at 'bins' to draw a smooth function - this works because we used randn to generate the data\n",
    "y = norm.pdf(bins, mu, sig)\n",
    "ax.plot(bins, y, 'k--', linewidth = 6)\n",
    "ax.set_xlabel('Random Variable')\n",
    "ax.set_ylabel('Probability density')\n",
    "ax.set_title('Histo of random variable with $\\mu=mu$, $\\sigma=sig$')\n",
    "\n",
    "# show the plot\n",
    "plt.show()\n"
   ]
  },
  {
   "cell_type": "markdown",
   "metadata": {},
   "source": [
    "## Simple elementwise arithmetic operations like + and - work on corresponding elements of arrays. More on linear algebra in separate tutorial"
   ]
  },
  {
   "cell_type": "code",
   "execution_count": 64,
   "metadata": {},
   "outputs": [
    {
     "data": {
      "image/png": "[encoded data removed]",
      "text/plain": [
       "<matplotlib.figure.Figure at 0x1a11da60f0>"
      ]
     },
     "metadata": {},
     "output_type": "display_data"
    }
   ],
   "source": [
    "x = np.linspace(0,2*pi,360)\n",
    "y = np.sin(x)\n",
    "\n",
    "# print(x-y)\n",
    "\n",
    "plt.subplot(3, 1, 1)\n",
    "plt.plot(x, x, 'k--')\n",
    "plt.title('X')\n",
    "plt.ylabel('Amplitude')\n",
    "\n",
    "plt.subplot(3, 1, 2)\n",
    "plt.plot(x, y, 'k--')\n",
    "plt.title('Y')\n",
    "plt.xlabel('angle')\n",
    "plt.ylabel('Amplitude')\n",
    "\n",
    "plt.subplot(3, 1, 3)\n",
    "plt.plot(x, x-y, 'k--')\n",
    "plt.title('X-Y')\n",
    "plt.xlabel('angle')\n",
    "plt.ylabel('Amplitude')\n",
    "\n",
    "plt.show()"
   ]
  },
  {
   "cell_type": "markdown",
   "metadata": {},
   "source": [
    "## Some operations that can modify an existing array\n"
   ]
  },
  {
   "cell_type": "code",
   "execution_count": 100,
   "metadata": {},
   "outputs": [
    {
     "name": "stdout",
     "output_type": "stream",
     "text": [
      "[[ 4.  4.  4.  4.  4.  4.  4.  4.  4.  4.]]\n",
      "[[ 8.  8.  8.  8.  8.  8.  8.  8.  8.  8.]]\n",
      "[[ 1.  8.  8.  8.  8.  8.  8.  8.  8.  8.]]\n",
      "[[ 1.  8.  8.  8.  8.  8.  8.  8.  8.  8.]]\n"
     ]
    }
   ],
   "source": [
    "x = np.ones( (1,10) )\n",
    "\n",
    "# then some C style stuff...\n",
    "x += 3\n",
    "print(x)\n",
    "\n",
    "# note that it builds...so the x+=3 modifies x\n",
    "x *= 2\n",
    "print(x)\n",
    "\n",
    "y = x\n",
    "y[0,0] = 1\n",
    "print(x)\n",
    "print(y)"
   ]
  },
  {
   "cell_type": "markdown",
   "metadata": {},
   "source": [
    "<div class=\"alert alert-info\">\n",
    "when dealing with muliple arrays of different data types, resulting array will take the form of the highest precision input array (upcasting)!\n",
    "</div>"
   ]
  },
  {
   "cell_type": "code",
   "execution_count": 69,
   "metadata": {},
   "outputs": [
    {
     "name": "stdout",
     "output_type": "stream",
     "text": [
      "x data type:  int32\n",
      "y data type:  float64\n",
      "[[ 0.          0.03384538  1.57355576 -1.3178099   0.84890019 -3.02743448\n",
      "  -8.84709252 -1.38341626  5.4265979   5.23049351]]\n",
      "z data type:  float64\n"
     ]
    }
   ],
   "source": [
    "x = np.arange(10, dtype='int32')\n",
    "print('x data type: ', x.dtype)\n",
    "\n",
    "y = np.random.randn(1,10)\n",
    "print('y data type: ', y.dtype)\n",
    "\n",
    "# now multiply the int32 array with the float64 array and answer should be the higher precision of the two (float64)\n",
    "z = x * y \n",
    "print(z)\n",
    "print('z data type: ', z.dtype)"
   ]
  },
  {
   "cell_type": "markdown",
   "metadata": {},
   "source": [
    "## Unary operations implemented as methods of the ndarray class"
   ]
  },
  {
   "cell_type": "markdown",
   "metadata": {},
   "source": [
    "(Note that like matlab, the columns are the first dimension)"
   ]
  },
  {
   "cell_type": "code",
   "execution_count": 72,
   "metadata": {},
   "outputs": [
    {
     "name": "stdout",
     "output_type": "stream",
     "text": [
      "[[0 1 2 3 4]\n",
      " [5 6 7 8 9]]\n",
      "[ 5  7  9 11 13]\n",
      "[10 35]\n",
      "[ 5  7  9 11 13]\n"
     ]
    }
   ],
   "source": [
    "x = np.arange(10).reshape(2,5)   # 2 x 5 matrix\n",
    "print(x)\n",
    "x.sum()                          # sum of all elements\n",
    "print(x.sum(axis=0))             # sum of each column (across 1st dim)\n",
    "print(x.sum(axis=1))             # sum of each row (across 2nd dim)\n",
    "print(x.sum(0))                  # don't need the axis arg"
   ]
  },
  {
   "cell_type": "markdown",
   "metadata": {},
   "source": [
    "## Other common operations..."
   ]
  },
  {
   "cell_type": "code",
   "execution_count": 73,
   "metadata": {},
   "outputs": [
    {
     "name": "stdout",
     "output_type": "stream",
     "text": [
      "0.0449338041203\n",
      "[ 0.17807569  0.09381444  0.0449338 ]\n",
      "[ 0.94135937  0.75675558  0.94734987  0.96091906  0.98770526  0.86453296\n",
      "  0.55134836  0.89785368  0.9040013   0.69723332  0.78160031  0.91706513]\n",
      "[[ 0.7190305   0.08222425  0.07740256]\n",
      " [ 0.60021018  0.27398935  0.20734297]\n",
      " [ 0.35654024  0.33776835  0.10156039]\n",
      " [ 0.17807569  0.0263961   0.02536451]\n",
      " [ 0.84465328  0.64545631  0.63752059]\n",
      " [ 0.86453296  0.62866544  0.45561795]\n",
      " [ 0.26319374  0.14511143  0.00652041]\n",
      " [ 0.82471702  0.07737036  0.06946727]\n",
      " [ 0.9040013   0.57684811  0.42593345]\n",
      " [ 0.69723332  0.25537007  0.08905454]\n",
      " [ 0.35051447  0.27396222  0.07678288]\n",
      " [ 0.91706513  0.80706837  0.45390683]]\n"
     ]
    },
    {
     "data": {
      "image/png": "[encoded data removed]",
      "text/plain": [
       "<matplotlib.figure.Figure at 0x10f27b5c0>"
      ]
     },
     "metadata": {},
     "output_type": "display_data"
    }
   ],
   "source": [
    "x = np.random.rand(12,3)  \n",
    "print(x.min())           # min of entire matrix\n",
    "print(x.min(0))          # min across 1st dim\n",
    "print(x.max(1))          # max across 2nd dim\n",
    "print(x.cumprod(1))      # cumulative product across 2nd dim\n",
    "y = x.cumsum(0)          # cumulative sum across 1st dim\n",
    "\n",
    "r,c = y.shape\n",
    "plt.plot(np.arange(r), y, 'r-', linewidth = 4)    \n",
    "plt.xlabel('count')\n",
    "plt.ylabel('cumulative sum')\n",
    "plt.title('Cumulative sum down columns')\n",
    "plt.show() "
   ]
  },
  {
   "cell_type": "markdown",
   "metadata": {},
   "source": [
    "## Universal functions...sin, exp, corrcoef, etc"
   ]
  },
  {
   "cell_type": "code",
   "execution_count": 74,
   "metadata": {},
   "outputs": [
    {
     "name": "stdout",
     "output_type": "stream",
     "text": [
      "[  1.00000000e+00   1.36389534e+00   1.86021050e+00   2.53713244e+00\n",
      "   3.46038312e+00   4.71960041e+00   6.43704102e+00   8.77945026e+00\n",
      "   1.19742513e+01   1.63316256e+01   2.22746281e+01   3.03802615e+01\n",
      "   4.14354971e+01   5.65136815e+01   7.70787469e+01   1.05127344e+02\n",
      "   1.43382695e+02   1.95558989e+02   2.66721994e+02   3.63780886e+02\n",
      "   4.96159055e+02   6.76709025e+02   9.22960286e+02   1.25882124e+03\n",
      "   1.71690042e+03   2.34167248e+03   3.19379619e+03   4.35600375e+03\n",
      "   5.94113322e+03   8.10308393e+03]\n",
      "[ 0.          0.55708601  0.7878386   0.96490128  1.11417203  1.2456822\n",
      "  1.36457648  1.47391105  1.57567719  1.67125804  1.76166066  1.84764529\n",
      "  1.92980256  2.00860219  2.084425    2.15758486  2.22834406  2.29692448\n",
      "  2.36351579  2.42828164  2.4913644   2.55288883  2.61296502  2.67169067\n",
      "  2.72915296  2.78543007  2.84059246  2.89470384  2.94782211  3.        ]\n",
      "[  2.           2.62068966   3.24137931   3.86206897   4.48275862\n",
      "   5.10344828   5.72413793   6.34482759   6.96551724   7.5862069\n",
      "   8.20689655   8.82758621   9.44827586  10.06896552  10.68965517\n",
      "  11.31034483  11.93103448  12.55172414  13.17241379  13.79310345\n",
      "  14.4137931   15.03448276  15.65517241  16.27586207  16.89655172\n",
      "  17.51724138  18.13793103  18.75862069  19.37931034  20.        ]\n",
      "[[ 1.          0.52100442]\n",
      " [ 0.52100442  1.        ]]\n"
     ]
    },
    {
     "data": {
      "image/png": "[encoded data removed]",
      "text/plain": [
       "<matplotlib.figure.Figure at 0x1a111adcf8>"
      ]
     },
     "metadata": {},
     "output_type": "display_data"
    }
   ],
   "source": [
    "N = 30\n",
    "x = np.linspace(0,9,N)\n",
    "\n",
    "print(np.exp(x))\n",
    "print(np.sqrt(x))\n",
    "print(np.add(x, x+2))                 # add two same-sized arrays\n",
    "y = x + np.random.randn(1,len(x))*3   # make a second vector x + some randn noise \n",
    "print(np.corrcoef(x, y))              # correlation matrix\n",
    "\n",
    "plt.scatter(x, y, s=50, c='green', alpha=1, label=\"X vs Y\")  # note alpha or transparency\n",
    "plt.xlabel(\"X\")\n",
    "plt.ylabel(\"Y\")\n",
    "plt.legend(loc=2)   # 1-4 for each corner of the plot\n",
    "plt.show()\n",
    "\n",
    "# all, any, apply_along_axis, argmax, argmin, argsort, average, ...\n",
    "# bincount, ceil, clip, conj, corrcoef, cov, cross, cumprod, cumsum, ...\n",
    "# diff, dot, floor, inner, inv, lexsort, max, maximum, mean, median, ...\n",
    "# min, minimum, nonzero, outer, prod, re, round, sort, std, sum, trace, ...\n",
    "# transpose, var, vdot, vectorize, where"
   ]
  },
  {
   "cell_type": "markdown",
   "metadata": {},
   "source": [
    "## Set logic...."
   ]
  },
  {
   "cell_type": "code",
   "execution_count": 77,
   "metadata": {},
   "outputs": [
    {
     "name": "stdout",
     "output_type": "stream",
     "text": [
      "[ 0  1  2  3  4  5  6  7  8  9 10 11 12 13 14 15 16 17 18 19]\n",
      "[  0.   1.   2.   3.   4.   5.   6.   7.   8.   9.  10.  11.  12.  13.  14.\n",
      "  15.  16.  17.  18.  19.  20.]\n",
      "[  0.   1.   2.   3.   4.   5.   6.   7.   8.   9.  10.  11.  12.  13.  14.\n",
      "  15.  16.  17.  18.  19.  20.]\n",
      "[  0.   1.   2.   3.   4.   5.   6.   7.   8.   9.  10.  11.  12.  13.  14.\n",
      "  15.  16.  17.  18.  19.]\n",
      "[  0.   1.   2.   3.   4.   5.   6.   7.   8.   9.  10.  11.  12.  13.  14.\n",
      "  15.  16.  17.  18.  19.  20.]\n"
     ]
    }
   ],
   "source": [
    "x = np.arange(20)\n",
    "y = np.linspace(0, 20, 21)\n",
    "print(x)\n",
    "print(y)\n",
    "\n",
    "z = np.union1d(x,y)\n",
    "print(z)\n",
    "\n",
    "z = np.intersect1d(x,y)\n",
    "print(z)\n",
    "\n",
    "z = np.unique([np.append(x,y)])\n",
    "print(z)"
   ]
  },
  {
   "cell_type": "markdown",
   "metadata": {},
   "source": [
    "## Shape manipulation"
   ]
  },
  {
   "cell_type": "code",
   "execution_count": 78,
   "metadata": {
    "scrolled": true
   },
   "outputs": [
    {
     "name": "stdout",
     "output_type": "stream",
     "text": [
      "Shape of x:  (6, 8) \n",
      "Shape of flattened x: (48,)\n",
      "[[ -1.   1.  -4.  -4.   3.  -5.  11.   1.  -6.   1.  -4.   4.]\n",
      " [ -1.   6.   1.  -8.  -0.  -4.   2.  -3.  -2.  -6.   0.   2.]\n",
      " [ -1.   1.  -5.  -1.   6. -13.   0.  -6.  -3.  -3.   3.   3.]\n",
      " [  8.   2.   6.   1.   1.   8.  -7.  -8.  -3.   6.   6.  -1.]]\n",
      "Reshaped x:  (12, 4) \n",
      "Reshaped x transposed:  (4, 12)\n"
     ]
    }
   ],
   "source": [
    "x = np.round(np.random.randn(6,8)*5)   # generate some random data from N(0,5), then round \n",
    "\n",
    "# flatten the array\n",
    "y = x.ravel()     # matlab equivalent of x(:)\n",
    "print('Shape of x: ', x.shape, '\\nShape of flattened x:', y.shape)  # newline example + multiple outputs...\n",
    "\n",
    "# reshape\n",
    "x = x.reshape(12,4)   # 48 element array reshaped from a 6x8 to a 12x4\n",
    "\n",
    "# transpose - swap row/column\n",
    "print(x.T)\n",
    "print('Reshaped x: ', x.shape, '\\nReshaped x transposed: ', x.T.shape)"
   ]
  },
  {
   "cell_type": "markdown",
   "metadata": {},
   "source": [
    "## Concatenating arrays (stacking)"
   ]
  },
  {
   "cell_type": "code",
   "execution_count": 82,
   "metadata": {},
   "outputs": [
    {
     "name": "stdout",
     "output_type": "stream",
     "text": [
      "shape of z after vert stacking x,y:  (10, 6)\n",
      "shape of z after horizontal stacking x,y:  (5, 12)\n",
      "shape of z after vertical concat x,y:  (10, 6)\n",
      "shape of z after horizontal concat x,y:  (5, 12)\n"
     ]
    }
   ],
   "source": [
    "# use floor and ceil to make two 5x6 arrays of rand numbers\n",
    "x = np.floor(np.random.rand(5,6)*10)\n",
    "y = np.ceil(np.random.rand(5,6)*2)\n",
    "\n",
    "# vertical stacking of arrays...will make a 10x6\n",
    "z = np.vstack((x,y))\n",
    "print('shape of z after vert stacking x,y: ', z.shape)\n",
    "\n",
    "# horizontal stacking of arrays...will make a 5x12\n",
    "z = np.hstack((x,y))\n",
    "print('shape of z after horizontal stacking x,y: ', z.shape)\n",
    "\n",
    "# concatenate allows stacking along specified dim\n",
    "z = np.concatenate((x,y),axis=0)   # vstack - stack rows on top of each other\n",
    "print('shape of z after vertical concat x,y: ', z.shape)\n",
    "\n",
    "z = np.concatenate((x,y),axis=1)   # hstack - stack columns next to each other\n",
    "print('shape of z after horizontal concat x,y: ', z.shape)\n"
   ]
  },
  {
   "cell_type": "markdown",
   "metadata": {},
   "source": [
    "## References and reasignments (copies)...this is important because failure to understand this can have unintended consequences "
   ]
  },
  {
   "cell_type": "code",
   "execution_count": 86,
   "metadata": {},
   "outputs": [
    {
     "name": "stdout",
     "output_type": "stream",
     "text": [
      "(12,)\n",
      "True\n",
      "(3, 4)\n"
     ]
    }
   ],
   "source": [
    "x = np.arange(12)\n",
    "print(x.shape)\n",
    "y = x                   # creates another name to refer to x\n",
    "print(y is x)           # y and x are the same object, so true\n",
    "\n",
    "y.shape = 3,4    # because y is another name for x, this changes shape of x\n",
    "print(x.shape)   # now x is a different size...  "
   ]
  },
  {
   "cell_type": "markdown",
   "metadata": {},
   "source": [
    "## if you want to make a new object that looks at the same data but that is not simply a reference to the same object (i.e. create a new 'view' of the data)"
   ]
  },
  {
   "cell_type": "code",
   "execution_count": 92,
   "metadata": {},
   "outputs": [
    {
     "name": "stdout",
     "output_type": "stream",
     "text": [
      "False\n",
      "True\n",
      "Shape of x:  (10,)  Shape of y:  (2, 5)\n",
      "1000.0\n"
     ]
    }
   ],
   "source": [
    "x = np.linspace(0,9,10)\n",
    "\n",
    "y = x.view()\n",
    "\n",
    "print(y is x)        # no...\n",
    "\n",
    "print(y.base is x)   # yes, because looking at the same data. \n",
    "\n",
    "# so you can change the shape of y and not affect x\n",
    "y.shape = 2,5\n",
    "print('Shape of x: ', x.shape, ' Shape of y: ', y.shape)\n",
    "\n",
    "# but since the data is shared, changing data in y changes data in x\n",
    "y[0,0] = 1000\n",
    "print(x[0,])"
   ]
  },
  {
   "cell_type": "markdown",
   "metadata": {},
   "source": [
    "## Deep copy - make a complete copy of an array and its data...not just a view"
   ]
  },
  {
   "cell_type": "markdown",
   "metadata": {},
   "source": [
    "<div class=\"alert alert-warning\">\n",
    "changing the copy will NOT change the original...and this is often a very desirable feature!\n",
    "</div>"
   ]
  },
  {
   "cell_type": "code",
   "execution_count": 88,
   "metadata": {},
   "outputs": [
    {
     "name": "stdout",
     "output_type": "stream",
     "text": [
      "False\n",
      "False\n",
      "[ 1000.     1.     2.     3.     4.     5.     6.     7.     8.     9.]\n"
     ]
    }
   ],
   "source": [
    "z = x.copy()\n",
    "print(z is x)       # not the same\n",
    "print(z.base is x)  # does not share the same data\n",
    "\n",
    "z[0] = -999         # since z is an independent copy, changing the data in z does not change x\n",
    "\n",
    "print(x)"
   ]
  }
 ],
 "metadata": {
  "kernelspec": {
   "display_name": "Python 3",
   "language": "python",
   "name": "python3"
  },
  "language_info": {
   "codemirror_mode": {
    "name": "ipython",
    "version": 3
   },
   "file_extension": ".py",
   "mimetype": "text/x-python",
   "name": "python",
   "nbconvert_exporter": "python",
   "pygments_lexer": "ipython3",
   "version": "3.6.2"
  }
 },
 "nbformat": 4,
 "nbformat_minor": 2
}
