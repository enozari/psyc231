{
 "cells": [
  {
   "cell_type": "markdown",
   "metadata": {},
   "source": [
    "# In class exercises for Tutorial00 intro to jupyter and python basics"
   ]
  },
  {
   "cell_type": "markdown",
   "metadata": {},
   "source": [
    "## Exercise 1\n",
    "1. Create a list (my_list) with values from 1 to 100\n",
    "1. Print every 4th value from 20 to 80\n",
    "1. Print the above sequence backwards\n",
    "1. Compute the sum of the above sequence (hint: there is a built in function 'sum')"
   ]
  },
  {
   "cell_type": "code",
   "execution_count": 10,
   "metadata": {},
   "outputs": [
    {
     "name": "stdout",
     "output_type": "stream",
     "text": [
      "[20, 24, 28, 32, 36, 40, 44, 48, 52, 56, 60, 64, 68, 72, 76, 80]\n",
      "[80, 76, 72, 68, 64, 60, 56, 52, 48, 44, 40, 36, 32, 28, 24, 20]\n"
     ]
    },
    {
     "data": {
      "text/plain": [
       "800"
      ]
     },
     "execution_count": 10,
     "metadata": {},
     "output_type": "execute_result"
    }
   ],
   "source": [
    "my_list = list(range(1, 101))\n",
    "print(my_list[19:80:4])\n",
    "print(my_list[79:18:-4])\n",
    "sum(my_list[19:80:4])"
   ]
  },
  {
   "cell_type": "markdown",
   "metadata": {},
   "source": [
    "## Exercise 2\n",
    "Tuples are often used to pass values into functions. One nice feature is that their values can be passed to multiple variables at once, for example:\n",
    "\n",
    "my_tuple = ('A','B')\n",
    "\n",
    "a,b = my_tuple\n",
    "\n",
    "will set a and b to the ordered elements in my_tuple. \n",
    "\n",
    "What are a few different ways that you can make a new tuple that combine our Dr. Seuss themed tuples from earlier?\n",
    "1. By creating lots of temporary variables (messy)\n",
    "1. By using a for loop (less messy)\n",
    "1. By using a list (best?)\n",
    "\n",
    "We want one continuous tuple of strings, **not a tuple of tuples** as in the bad example below"
   ]
  },
  {
   "cell_type": "code",
   "execution_count": 11,
   "metadata": {},
   "outputs": [
    {
     "name": "stdout",
     "output_type": "stream",
     "text": [
      "((1, 'fish', 2, 'fish'), ('red', 'fish', 'blue', 'fish'))\n"
     ]
    }
   ],
   "source": [
    "a_simple_tuple = (1,'fish',2,'fish')\n",
    "annother_tuple = ('red','fish','blue','fish')\n",
    "bad_tuple = (a_simple_tuple,annother_tuple)\n",
    "print(bad_tuple)"
   ]
  },
  {
   "cell_type": "code",
   "execution_count": 18,
   "metadata": {},
   "outputs": [
    {
     "name": "stdout",
     "output_type": "stream",
     "text": [
      "(1, 'fish', 2, 'fish', 'red', 'fish', 'blue', 'fish')\n"
     ]
    }
   ],
   "source": [
    "good_tuple = tuple(list(a_simple_tuple) + list(annother_tuple))\n",
    "print(good_tuple)"
   ]
  },
  {
   "cell_type": "markdown",
   "metadata": {},
   "source": [
    "## Exercise 3\n",
    "Dictionaries are meant to be called by their keys. The order of a dictionary's keys is **not-predictable** (even though the above example seems to stay in the order we put time in... this is not dependable because a hash is used to link the keys and the items). You can access all values in a dictionary using the values command.\n",
    "1. Create a Tuple of UC Schools in order of enrollment size (this should be challenging as this is not how dictionaries are **typically** used\n",
    " *  To get things started we have a sorted list of school enrollement \n",
    " *  We can loop through each school-size and determine which school it is a match to\n",
    " *  This we can append to a new list (schools_bySize)\n",
    " *  We have started things off below...\n",
    "1. BONUS: have them print together nicely :)"
   ]
  },
  {
   "cell_type": "code",
   "execution_count": 41,
   "metadata": {},
   "outputs": [
    {
     "name": "stdout",
     "output_type": "stream",
     "text": [
      "['Los Angeles', 'Davis', 'Berkeley', 'San Diego', 'Irvine', 'Santa Barbara', 'Riverside', 'Santa Cruz', 'Merced', 'San Francisco']\n"
     ]
    }
   ],
   "source": [
    "# First the dictionary from Tutorial001\n",
    "UC_Enrollment = {'Santa Barbara':21574,'Santa Cruz':16962,'Irvine': 27331,'Los Angeles':30873,\n",
    "                 'Merced':6815,'Riverside':19799,'San Diego':28127,'San Francisco':0,\n",
    "                 'Berkeley':29310,'Davis':29379}\n",
    "\n",
    "# Extracting schools and enrollment sizes\n",
    "schools = list(UC_Enrollment.keys())\n",
    "sizes = list(UC_Enrollment.values())\n",
    "sizes.sort(reverse=True)\n",
    "schools_bySize = []\n",
    "for size in sizes:\n",
    "    for school in schools:\n",
    "        if UC_Enrollment[school] == size:\n",
    "            schools_bySize.append(school)\n",
    "            break\n",
    "print(schools_bySize)"
   ]
  },
  {
   "cell_type": "markdown",
   "metadata": {},
   "source": [
    "# Exercise 4\n",
    "\n",
    "Write a module (in a .py file) that takes a list of 2 numbers and sorts them from low to high using a if...elif...else statement. \n",
    "\n",
    "Also include another function that will take a longer list of numbers (say ~5) and that uses a 'for' loop to compute the product of all numbers in the array. \n",
    "\n",
    "Bonus - for the first function that sorts the two numbers, do some checking to make sure that the input is exactly two numerical values and return gracefully with a helpful message if not. "
   ]
  },
  {
   "cell_type": "code",
   "execution_count": 63,
   "metadata": {},
   "outputs": [
    {
     "name": "stdout",
     "output_type": "stream",
     "text": [
      "[1, 2]\n",
      "[1, 2.5]\n",
      "Unsupported file type!\n"
     ]
    }
   ],
   "source": [
    "# For first function\n",
    "import test_funcs\n",
    "# import importlib        # These 2 lines to be used if the module is loaded and then changed outside\n",
    "# importlib.reload(test_funcs)\n",
    "print(test_funcs.sort2(1, 2))\n",
    "print(test_funcs.sort2(2.5, 1))\n",
    "test_funcs.sort2(2, '1')"
   ]
  },
  {
   "cell_type": "code",
   "execution_count": 64,
   "metadata": {},
   "outputs": [
    {
     "data": {
      "text/plain": [
       "120"
      ]
     },
     "execution_count": 64,
     "metadata": {},
     "output_type": "execute_result"
    }
   ],
   "source": [
    "# For second function\n",
    "lst = [1, 2, 3, 4, 5]\n",
    "test_funcs.my_prod(lst)"
   ]
  }
 ],
 "metadata": {
  "kernelspec": {
   "display_name": "Python 3",
   "language": "python",
   "name": "python3"
  },
  "language_info": {
   "codemirror_mode": {
    "name": "ipython",
    "version": 3
   },
   "file_extension": ".py",
   "mimetype": "text/x-python",
   "name": "python",
   "nbconvert_exporter": "python",
   "pygments_lexer": "ipython3",
   "version": "3.6.2"
  }
 },
 "nbformat": 4,
 "nbformat_minor": 2
}
