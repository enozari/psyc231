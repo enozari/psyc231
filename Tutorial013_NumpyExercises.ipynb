{
 "cells": [
  {
   "cell_type": "markdown",
   "metadata": {},
   "source": [
    "## EXERCISES\n",
    "\n",
    "### Vector Multiplication\n",
    "1. Produce 2 vectors, one with integers in the range [5,10] and the other [15,20] using the np.arange function\n",
    "1. Without using any functions from the numpy module\n",
    "    1. Compute the outer product of those vectors \n",
    "    1. Compute the \"trace\" of the resulting matrix\n",
    "    \n",
    "    ![trace](https://wikimedia.org/api/rest_v1/media/math/render/svg/3e5b6e82272fc5eeca6d510388e0a2bd0a6c6463)\n",
    "    \n",
    "    \n",
    "Complete the same items using numpy operations"
   ]
  },
  {
   "cell_type": "code",
   "execution_count": 1,
   "metadata": {
    "collapsed": true
   },
   "outputs": [],
   "source": [
    "import numpy as np"
   ]
  },
  {
   "cell_type": "code",
   "execution_count": 26,
   "metadata": {},
   "outputs": [],
   "source": [
    "# Creating the vectors\n",
    "x = np.arange(5, 11)\n",
    "y = np.arange(15, 21)\n",
    "\n",
    "# Without numpy functions\n",
    "outer_prod_manual = [[x[i] * y[j] for j in range(len(y))] for i in range(len(x))]\n",
    "trace_manual = sum([outer_prod_manual[i][i] for i in range(len(outer_prod_manual))])\n",
    "\n",
    "# With numpy functions\n",
    "outer_prod_np = np.dot(x.reshape(-1, 1), y.reshape(1, -1)) # outer_prod_np = np.outer(x, y) is simpler, but I'd rather this as it is more MATLAB-like\n",
    "trace_np = np.trace(outer_prod_np)"
   ]
  },
  {
   "cell_type": "markdown",
   "metadata": {},
   "source": [
    "### Matrix Multiplication\n",
    "* Two matricies can be multiplied if their inner dimensions match (eg. 2x3 * 3x5 -> 2x5). The best rule for working with and mutliplying matricies is to remember (rows x columns). This applies to both the dimensions of a matrix (a 2x3 matrix has 2 rows and 3 columns) as well as multiplication (you multiply the rows of the first matrix by the columns of the second). \n",
    "\n",
    "* When multiplying two matricies of dimension (M x N)*(N x P) the resulting matrix is (M x P). The upper element of the reslting matrix is the inner (or dot) product of the first row of the first matrix and the first column of the second matrix\n",
    "\n",
    "![two matrices](https://wikimedia.org/api/rest_v1/media/math/render/svg/16b1644351bc2041175b19cbc65da03ef78130c7)\n",
    "\n",
    "![store product in matrix C](https://wikimedia.org/api/rest_v1/media/math/render/svg/00ac0c831c365b7424cc43239aae8cebea27c56c)\n",
    "\n",
    "![matrix multiply](https://wikimedia.org/api/rest_v1/media/math/render/svg/3cfeccef1c8c7e6da0ddf08daed8dbf3c6f50c5e)\n",
    "\n",
    "for i = 1, ..., n and j = 1, ..., p.\n",
    "\n",
    "1. Make two matrices of random numbers (A and B). A should be a 4x3 matrix and B should be a 3x4 matrix. Multiply A by B using (to a resulting matrix C) using:\n",
    "    1. a conventional for-loop\n",
    "    1. list comprehension\n",
    "    1. numpy operator\n",
    "    \n",
    "2. After you have C, pull out the upper quadrant using fancy indexing, and then replace the main diagonal (upper left to lower right) with 0s. "
   ]
  },
  {
   "cell_type": "code",
   "execution_count": 71,
   "metadata": {},
   "outputs": [
    {
     "name": "stdout",
     "output_type": "stream",
     "text": [
      "0.0 2.00148302124e-16\n"
     ]
    }
   ],
   "source": [
    "# making the matrices\n",
    "A = np.random.rand(4, 3)\n",
    "B = np.random.rand(3, 4)\n",
    "\n",
    "# Multiplying usign for loops\n",
    "C_for = np.empty((A.shape[0], B.shape[1]))\n",
    "for i in range(A.shape[0]):\n",
    "    for j in range(B.shape[1]):\n",
    "        C_for[i][j] = 0;\n",
    "        for k in range(A.shape[1]):\n",
    "            C_for[i][j] += A[i][k] * B[k][j]\n",
    "\n",
    "# Multiplying using list comprehension\n",
    "C_lc = [[sum([A[i][k] * B[k][j] for k in range(A.shape[1])]) for j in range(B.shape[1])] for i in range(A.shape[0])]\n",
    "\n",
    "# Multiplying using numpy\n",
    "C = np.dot(A, B)\n",
    "print(np.linalg.norm(C_lc - C_for), np.linalg.norm(C - C_lc)) # Making sure all give the same result\n",
    "\n",
    "# Taking out the upper left quadrant using fancy indexing\n",
    "C_up_left = C[[0,1],:][:,[0,1]]\n",
    "\n",
    "# Replacing the main diagonal with zeros\n",
    "C_zeroed = C.copy()\n",
    "C_zeroed[np.arange(C.shape[0]), np.arange(C.shape[1])] = 0"
   ]
  }
 ],
 "metadata": {
  "kernelspec": {
   "display_name": "Python 3",
   "language": "python",
   "name": "python3"
  },
  "language_info": {
   "codemirror_mode": {
    "name": "ipython",
    "version": 3
   },
   "file_extension": ".py",
   "mimetype": "text/x-python",
   "name": "python",
   "nbconvert_exporter": "python",
   "pygments_lexer": "ipython3",
   "version": "3.6.2"
  }
 },
 "nbformat": 4,
 "nbformat_minor": 2
}
